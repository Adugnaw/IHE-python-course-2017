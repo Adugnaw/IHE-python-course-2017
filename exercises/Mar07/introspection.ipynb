{
 "cells": [
  {
   "cell_type": "markdown",
   "metadata": {},
   "source": [
    "<figure>\n",
    "  <IMG SRC=\"../../logo/logo.png\" WIDTH=250 ALIGN=\"right\">\n",
    "</figure>\n",
    "\n",
    "# IHE Python course, 2017\n",
    "\n",
    "## Introspection\n",
    "\n",
    "T.N.Olsthoorn, Feb 27, 2017\n",
    "\n",
    "Getting the signature of a function or method, getting the methods associated with a class and the attributes of a module is importand and wanted all the time. Searchting the internet and its forums for manuals, documents, tutorials and answers to specific question is often also required, and a requesting the answer for your specific question is often faster done and answer obtained on a forum than looked up in book or a pdf.file, it still comes handy to have tools and techiques readily available for introspection.\n",
    "\n",
    "A dir(obj) works, but seems a mess at first sight. This is however only the case until you see how to deal with it. A simple list comprehension can filter out exactly what you need into a nice list."
   ]
  },
  {
   "cell_type": "markdown",
   "metadata": {},
   "source": [
    "## Autocompletion when pressingn <tab> in the editor\n",
    "\n",
    "In Ipython (and, therefore also in this notebook), the first way of introspection is `tab completion`.\n",
    "Start typing the name of the object and press tap. You can do that at any position of the screen you're busy typing. Python will show a list of available options."
   ]
  },
  {
   "cell_type": "markdown",
   "metadata": {},
   "source": [
    "If you press enter do that at the dot like `str.<tab>` you get a list of all the attributes of the objects.\n",
    "There are many and you can scroll through them. Try it"
   ]
  },
  {
   "cell_type": "code",
   "execution_count": 69,
   "metadata": {
    "collapsed": true
   },
   "outputs": [],
   "source": [
    "#str.<tab>  # remove the `#` and the text <tab> and press <tab>"
   ]
  },
  {
   "cell_type": "markdown",
   "metadata": {},
   "source": [
    "Once the sought one found, press `<tab>` again to see the attributes associated with the particular choice."
   ]
  },
  {
   "cell_type": "code",
   "execution_count": 70,
   "metadata": {
    "collapsed": true
   },
   "outputs": [],
   "source": [
    "from scipy import special\n",
    "\n",
    "# try in steps\n",
    "#scipy.special.airy.identity.conjugate\n"
   ]
  },
  {
   "cell_type": "markdown",
   "metadata": {},
   "source": [
    "## Getting help on the fly, and callable's signature\n",
    "\n",
    "To get help on any function in put a question mark immediately behind it and press `<shift><enter>` to execute the cell"
   ]
  },
  {
   "cell_type": "code",
   "execution_count": 71,
   "metadata": {
    "collapsed": true
   },
   "outputs": [],
   "source": [
    "#str.islower?<shift><enter>"
   ]
  },
  {
   "cell_type": "markdown",
   "metadata": {},
   "source": [
    "The help appears in a separate window at the bottom of the screen. Press the small at the corner of that window x to remove it again if it takes up too much space at your screen.\n",
    "\n",
    "A question mark in the front alsow works.\n",
    "\n",
    "Two question marks yields the underlying python code if it is available.\n",
    "\n",
    "Alternatively use help(obj)"
   ]
  },
  {
   "cell_type": "code",
   "execution_count": 75,
   "metadata": {
    "collapsed": false
   },
   "outputs": [
    {
     "name": "stdout",
     "output_type": "stream",
     "text": [
      "Help on method_descriptor:\n",
      "\n",
      "lower(...)\n",
      "    S.lower() -> str\n",
      "    \n",
      "    Return a copy of the string S converted to lowercase.\n",
      "\n"
     ]
    }
   ],
   "source": [
    "help(str.lower)"
   ]
  },
  {
   "cell_type": "markdown",
   "metadata": {},
   "source": [
    "## Inspection of objects with `dir()`.\n",
    "\n",
    "It's often desired to have an overview of all the attributes of an object, without the \"private\" ones, i.e. those starting with on or two underscores. One way to do this is with the function `dir()`. However, `dir()` tends to spawn an overwhelming mess, at least at first sight. This flood can be handled and ordered, however. An easy way is using a simple `list comprehension` to filter out all objects that start with the underscore."
   ]
  },
  {
   "cell_type": "code",
   "execution_count": 41,
   "metadata": {
    "collapsed": false
   },
   "outputs": [
    {
     "data": {
      "text/plain": [
       "['capitalize',\n",
       " 'casefold',\n",
       " 'center',\n",
       " 'count',\n",
       " 'encode',\n",
       " 'endswith',\n",
       " 'expandtabs',\n",
       " 'find',\n",
       " 'format',\n",
       " 'format_map',\n",
       " 'index',\n",
       " 'isalnum',\n",
       " 'isalpha',\n",
       " 'isdecimal',\n",
       " 'isdigit',\n",
       " 'isidentifier',\n",
       " 'islower',\n",
       " 'isnumeric',\n",
       " 'isprintable',\n",
       " 'isspace',\n",
       " 'istitle',\n",
       " 'isupper',\n",
       " 'join',\n",
       " 'ljust',\n",
       " 'lower',\n",
       " 'lstrip',\n",
       " 'maketrans',\n",
       " 'partition',\n",
       " 'replace',\n",
       " 'rfind',\n",
       " 'rindex',\n",
       " 'rjust',\n",
       " 'rpartition',\n",
       " 'rsplit',\n",
       " 'rstrip',\n",
       " 'split',\n",
       " 'splitlines',\n",
       " 'startswith',\n",
       " 'strip',\n",
       " 'swapcase',\n",
       " 'title',\n",
       " 'translate',\n",
       " 'upper',\n",
       " 'zfill']"
      ]
     },
     "execution_count": 41,
     "metadata": {},
     "output_type": "execute_result"
    }
   ],
   "source": [
    "# This already works for any object (string, list, function, module etc).\n",
    "\n",
    "anObj = str\n",
    "\n",
    "[f for f in dir(anObj) if not f.startswith('_')]  # is a useful compact overview of public attributes."
   ]
  },
  {
   "cell_type": "markdown",
   "metadata": {},
   "source": [
    "## Using inspect.getmembers to inspect which attributes are callable or not\n",
    "\n",
    "Sometimes you need to know which attributes of an object are callable and which are not.\n",
    "\n",
    "Lets take the os.path module as an example, which as both callable and non callable attributes.\n",
    "\n",
    "One way to do is similar to the above, by using the function `getmembers()` from the module `inspect`. This function yields a list of tuples where each tuple contains two items: the name of the attribute and the attribute itself:"
   ]
  },
  {
   "cell_type": "code",
   "execution_count": 45,
   "metadata": {
    "collapsed": false
   },
   "outputs": [],
   "source": [
    "from inspect import getmembers"
   ]
  },
  {
   "cell_type": "code",
   "execution_count": 48,
   "metadata": {
    "collapsed": false
   },
   "outputs": [
    {
     "data": {
      "text/plain": [
       "[('abspath', <function posixpath.abspath>),\n",
       " ('altsep', None),\n",
       " ('basename', <function posixpath.basename>),\n",
       " ('commonpath', <function posixpath.commonpath>),\n",
       " ('commonprefix', <function genericpath.commonprefix>),\n",
       " ('curdir', '.'),\n",
       " ('defpath', ':/bin:/usr/bin'),\n",
       " ('devnull', '/dev/null'),\n",
       " ('dirname', <function posixpath.dirname>),\n",
       " ('exists', <function genericpath.exists>),\n",
       " ('expanduser', <function posixpath.expanduser>),\n",
       " ('expandvars', <function posixpath.expandvars>),\n",
       " ('extsep', '.'),\n",
       " ('genericpath',\n",
       "  <module 'genericpath' from '/Users/Theo/anaconda/lib/python3.5/genericpath.py'>),\n",
       " ('getatime', <function genericpath.getatime>),\n",
       " ('getctime', <function genericpath.getctime>),\n",
       " ('getmtime', <function genericpath.getmtime>),\n",
       " ('getsize', <function genericpath.getsize>),\n",
       " ('isabs', <function posixpath.isabs>),\n",
       " ('isdir', <function genericpath.isdir>),\n",
       " ('isfile', <function genericpath.isfile>),\n",
       " ('islink', <function posixpath.islink>),\n",
       " ('ismount', <function posixpath.ismount>),\n",
       " ('join', <function posixpath.join>),\n",
       " ('lexists', <function posixpath.lexists>),\n",
       " ('normcase', <function posixpath.normcase>),\n",
       " ('normpath', <function posixpath.normpath>),\n",
       " ('os', <module 'os' from '/Users/Theo/anaconda/lib/python3.5/os.py'>),\n",
       " ('pardir', '..'),\n",
       " ('pathsep', ':'),\n",
       " ('realpath', <function posixpath.realpath>),\n",
       " ('relpath', <function posixpath.relpath>),\n",
       " ('samefile', <function genericpath.samefile>),\n",
       " ('sameopenfile', <function genericpath.sameopenfile>),\n",
       " ('samestat', <function genericpath.samestat>),\n",
       " ('sep', '/'),\n",
       " ('split', <function posixpath.split>),\n",
       " ('splitdrive', <function posixpath.splitdrive>),\n",
       " ('splitext', <function posixpath.splitext>),\n",
       " ('stat', <module 'stat' from '/Users/Theo/anaconda/lib/python3.5/stat.py'>),\n",
       " ('supports_unicode_filenames', True),\n",
       " ('sys', <module 'sys' (built-in)>)]"
      ]
     },
     "execution_count": 48,
     "metadata": {},
     "output_type": "execute_result"
    }
   ],
   "source": [
    "anObj = os.path\n",
    "\n",
    "[f for f in getmembers(anObj) if not f[0].startswith('_')]  # is a useful compact overview of public attributes."
   ]
  },
  {
   "cell_type": "markdown",
   "metadata": {},
   "source": [
    "This is a list of tuples of all public members, where the first itme of each tuple is the name of the attribute and the second is the attribute itself.\n",
    "\n",
    "To see which attributes are methods and which are not, is just a matter of filtering out the callables. Notice that `callable(obj)` is a builtin function."
   ]
  },
  {
   "cell_type": "code",
   "execution_count": 49,
   "metadata": {
    "collapsed": false
   },
   "outputs": [
    {
     "data": {
      "text/plain": [
       "[('abspath', <function posixpath.abspath>),\n",
       " ('basename', <function posixpath.basename>),\n",
       " ('commonpath', <function posixpath.commonpath>),\n",
       " ('commonprefix', <function genericpath.commonprefix>),\n",
       " ('dirname', <function posixpath.dirname>),\n",
       " ('exists', <function genericpath.exists>),\n",
       " ('expanduser', <function posixpath.expanduser>),\n",
       " ('expandvars', <function posixpath.expandvars>),\n",
       " ('getatime', <function genericpath.getatime>),\n",
       " ('getctime', <function genericpath.getctime>),\n",
       " ('getmtime', <function genericpath.getmtime>),\n",
       " ('getsize', <function genericpath.getsize>),\n",
       " ('isabs', <function posixpath.isabs>),\n",
       " ('isdir', <function genericpath.isdir>),\n",
       " ('isfile', <function genericpath.isfile>),\n",
       " ('islink', <function posixpath.islink>),\n",
       " ('ismount', <function posixpath.ismount>),\n",
       " ('join', <function posixpath.join>),\n",
       " ('lexists', <function posixpath.lexists>),\n",
       " ('normcase', <function posixpath.normcase>),\n",
       " ('normpath', <function posixpath.normpath>),\n",
       " ('realpath', <function posixpath.realpath>),\n",
       " ('relpath', <function posixpath.relpath>),\n",
       " ('samefile', <function genericpath.samefile>),\n",
       " ('sameopenfile', <function genericpath.sameopenfile>),\n",
       " ('samestat', <function genericpath.samestat>),\n",
       " ('split', <function posixpath.split>),\n",
       " ('splitdrive', <function posixpath.splitdrive>),\n",
       " ('splitext', <function posixpath.splitext>)]"
      ]
     },
     "execution_count": 49,
     "metadata": {},
     "output_type": "execute_result"
    }
   ],
   "source": [
    "anObj = os.path\n",
    "\n",
    "[f for f in getmembers(anObj) if not f[0].startswith('_') and callable(f[1])]"
   ]
  },
  {
   "cell_type": "markdown",
   "metadata": {},
   "source": [
    "And likewise, we find the attributes that are `not` callable:"
   ]
  },
  {
   "cell_type": "code",
   "execution_count": 51,
   "metadata": {
    "collapsed": false
   },
   "outputs": [
    {
     "data": {
      "text/plain": [
       "[('altsep', None),\n",
       " ('curdir', '.'),\n",
       " ('defpath', ':/bin:/usr/bin'),\n",
       " ('devnull', '/dev/null'),\n",
       " ('extsep', '.'),\n",
       " ('genericpath',\n",
       "  <module 'genericpath' from '/Users/Theo/anaconda/lib/python3.5/genericpath.py'>),\n",
       " ('os', <module 'os' from '/Users/Theo/anaconda/lib/python3.5/os.py'>),\n",
       " ('pardir', '..'),\n",
       " ('pathsep', ':'),\n",
       " ('sep', '/'),\n",
       " ('stat', <module 'stat' from '/Users/Theo/anaconda/lib/python3.5/stat.py'>),\n",
       " ('supports_unicode_filenames', True),\n",
       " ('sys', <module 'sys' (built-in)>)]"
      ]
     },
     "execution_count": 51,
     "metadata": {},
     "output_type": "execute_result"
    }
   ],
   "source": [
    "anObj = os.path\n",
    "\n",
    "[f for f in getmembers(anObj) if not f[0].startswith('_') and not callable(f[1])]"
   ]
  },
  {
   "cell_type": "markdown",
   "metadata": {},
   "source": [
    "## How is the signature of a callable objecte (a `callable`)?\n",
    "\n",
    "Signature info refers to how objects should be called, what parameters should be passed to them and what return objects they return.\n",
    "\n",
    "This infor can be retrieved on a per object basis using the Ipython trick with the question mark as described above. But we can also use the function `singature(callable)` from the module inspect."
   ]
  },
  {
   "cell_type": "code",
   "execution_count": 77,
   "metadata": {
    "collapsed": true
   },
   "outputs": [],
   "source": [
    "from inspect import signature"
   ]
  },
  {
   "cell_type": "code",
   "execution_count": 87,
   "metadata": {
    "collapsed": false
   },
   "outputs": [
    {
     "data": {
      "text/plain": [
       "[('abspath', '(path)'),\n",
       " ('basename', '(p)'),\n",
       " ('commonpath', '(paths)'),\n",
       " ('commonprefix', '(m)'),\n",
       " ('dirname', '(p)'),\n",
       " ('exists', '(path)'),\n",
       " ('expanduser', '(path)'),\n",
       " ('expandvars', '(path)'),\n",
       " ('getatime', '(filename)'),\n",
       " ('getctime', '(filename)'),\n",
       " ('getmtime', '(filename)'),\n",
       " ('getsize', '(filename)'),\n",
       " ('isabs', '(s)'),\n",
       " ('isdir', '(s)'),\n",
       " ('isfile', '(path)'),\n",
       " ('islink', '(path)'),\n",
       " ('ismount', '(path)'),\n",
       " ('join', '(a, *p)'),\n",
       " ('lexists', '(path)'),\n",
       " ('normcase', '(s)'),\n",
       " ('normpath', '(path)'),\n",
       " ('realpath', '(filename)'),\n",
       " ('relpath', '(path, start=None)'),\n",
       " ('samefile', '(f1, f2)'),\n",
       " ('sameopenfile', '(fp1, fp2)'),\n",
       " ('samestat', '(s1, s2)'),\n",
       " ('split', '(p)'),\n",
       " ('splitdrive', '(p)'),\n",
       " ('splitext', '(p)')]"
      ]
     },
     "execution_count": 87,
     "metadata": {},
     "output_type": "execute_result"
    }
   ],
   "source": [
    "anObj = os.path\n",
    "\n",
    "[(f[0], str(signature(f[1]))) for f in getmembers(anObj) if not f[0].startswith('_') and callable(f[1])]"
   ]
  },
  {
   "cell_type": "markdown",
   "metadata": {},
   "source": [
    "However, according to the documentation of module `inspect`, not all callables are supported by `signature()`, due to whch this method is not always applicable."
   ]
  },
  {
   "cell_type": "markdown",
   "metadata": {
    "collapsed": true
   },
   "source": [
    "## Inspecting the variables in the workshape using globals() and locals()\n",
    "\n",
    "How to see what variables float in the workspace?\n",
    "\n",
    "You get a dict of the global active bound identifiers in your workspace by the function `globals()`."
   ]
  },
  {
   "cell_type": "code",
   "execution_count": 76,
   "metadata": {
    "collapsed": false
   },
   "outputs": [],
   "source": [
    "# globals() this can be very long list that you probably don't want to see directly"
   ]
  },
  {
   "cell_type": "markdown",
   "metadata": {},
   "source": [
    "Likewise, for the local variables you use `locals()`. However, if you are in a script, that is, at the highest level of the stack, then both 'globals()' and 'locals()' are the same. Only if you call `locals()` from within a function will the two be different.\n",
    "\n",
    "An example, shows, how `locals()` can be called from within a function."
   ]
  },
  {
   "cell_type": "code",
   "execution_count": 60,
   "metadata": {
    "collapsed": false
   },
   "outputs": [
    {
     "name": "stdout",
     "output_type": "stream",
     "text": [
      "{'y': 0.2, 'x': 0.3, 'r': 0.7, 'z': 0.6}\n"
     ]
    }
   ],
   "source": [
    "import math\n",
    "\n",
    "def myfun(x, y, z):\n",
    "    r = math.sqrt(x**2 + y**2 + z**2)\n",
    "    print(locals())\n",
    "    return r\n",
    "\n",
    "r = myfun(0.3, 0.2, 0.6)"
   ]
  },
  {
   "cell_type": "markdown",
   "metadata": {},
   "source": [
    "## Inspecting the workspace using the magics %who and %whos (like in Matlab)\n",
    "\n",
    "The easiest way to inspect the variables (identifiers) that you have added to the workspace is by using jupyters magic fucntions %who and %whos"
   ]
  },
  {
   "cell_type": "code",
   "execution_count": 63,
   "metadata": {
    "collapsed": false
   },
   "outputs": [
    {
     "name": "stdout",
     "output_type": "stream",
     "text": [
      "anObj\t flist\t getmembers\t inspect\t math\t methods\t myfun\t os\t pprint\t \n",
      "pth\t r\t s\t \n"
     ]
    }
   ],
   "source": [
    "%who"
   ]
  },
  {
   "cell_type": "code",
   "execution_count": 64,
   "metadata": {
    "collapsed": false
   },
   "outputs": [
    {
     "name": "stdout",
     "output_type": "stream",
     "text": [
      "Variable     Type        Data/Info\n",
      "----------------------------------\n",
      "anObj        module      <module 'posixpath' from <...>/python3.5/posixpath.py'>\n",
      "flist        list        n=0\n",
      "getmembers   function    <function getmembers at 0x10507cf28>\n",
      "inspect      module      <module 'inspect' from '/<...>ib/python3.5/inspect.py'>\n",
      "math         module      <module 'math' from '/Use<...>3.5/lib-dynload/math.so'>\n",
      "methods      function    <function methods at 0x106d57510>\n",
      "myfun        function    <function myfun at 0x106d8e158>\n",
      "os           module      <module 'os' from '/Users<...>nda/lib/python3.5/os.py'>\n",
      "pprint       function    <function pprint at 0x1051596a8>\n",
      "pth          module      <module 'posixpath' from <...>/python3.5/posixpath.py'>\n",
      "r            float       0.7\n",
      "s            str         The quick brown fox\n"
     ]
    }
   ],
   "source": [
    "%whos"
   ]
  },
  {
   "cell_type": "markdown",
   "metadata": {},
   "source": [
    "Note that this nice way of matlab like inspection of the workspace is only available in ipyton, not in python. Hence it is available in this jupyter notebook."
   ]
  },
  {
   "cell_type": "markdown",
   "metadata": {},
   "source": [
    "Getting the signature (way of calling) of an object can be done in ipython by typing a question mark directly after the object. The info then appears at the bottom of the screen. Press the small x to remove it, if it takes up too much of the screen."
   ]
  }
 ],
 "metadata": {
  "anaconda-cloud": {},
  "kernelspec": {
   "display_name": "Python [default]",
   "language": "python",
   "name": "python3"
  },
  "language_info": {
   "codemirror_mode": {
    "name": "ipython",
    "version": 3
   },
   "file_extension": ".py",
   "mimetype": "text/x-python",
   "name": "python",
   "nbconvert_exporter": "python",
   "pygments_lexer": "ipython3",
   "version": "3.5.2"
  }
 },
 "nbformat": 4,
 "nbformat_minor": 1
}
