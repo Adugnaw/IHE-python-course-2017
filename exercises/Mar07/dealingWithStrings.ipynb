{
 "cells": [
  {
   "cell_type": "markdown",
   "metadata": {},
   "source": [
    "<figure>\n",
    "  <IMG SRC=\"../../logo/logo.png\" WIDTH=250 ALIGN=\"right\">\n",
    "</figure>\n",
    "\n",
    "# Strings, files combined with lists, dicts and sets with inspection\n",
    "\n",
    "T.N.Olsthoorn, Feb 27, 2017\n",
    "\n",
    "Last week we focused on the essential tools in Python, i.e tuples, lists, dicts and sets. Strings are another such tool, but strings become essentially effective if combined with reading files and lists, dicts and set. That's whey we postponed this subject to this week, allowing us more handling space.\n",
    "\n",
    "We've already mentioned that strings are immutable sequences of characters. So we can't replace individual characters or change them from uppercase to lowercase, nor can't we append characters, but we can replace an old string by a new one, and while doing so apply the required changes. So immutability is never a big issue, on the contrary immutability allows using strings as keys in dicts, which is a game changing advantage.\n",
    "\n",
    "Let's see some strings:"
   ]
  },
  {
   "cell_type": "markdown",
   "metadata": {},
   "source": [
    "[](../../logo/logo.png)"
   ]
  },
  {
   "cell_type": "code",
   "execution_count": 172,
   "metadata": {
    "collapsed": true
   },
   "outputs": [],
   "source": [
    "from pprint import pprint"
   ]
  },
  {
   "cell_type": "code",
   "execution_count": 82,
   "metadata": {
    "collapsed": false
   },
   "outputs": [
    {
     "name": "stdout",
     "output_type": "stream",
     "text": [
      "This is a string\n",
      "This too is a ; the `quotes` don't matter as long as your are consequent you can use quotes inside quotes\n",
      "\n",
      "This is a multiline\n",
      "string, mostly used for doc\n",
      "strings in fucntions and classes\n",
      "\n"
     ]
    }
   ],
   "source": [
    "s1 = 'This is a string'\n",
    "s2 =\"This too is a ; the `quotes` don't matter as long as your are consequent you can use quotes inside quotes\"\n",
    "s3 =  \"\"\"This is a multiline\n",
    "string, mostly used for doc\n",
    "strings in fucntions and classes\n",
    "\"\"\"\n",
    "\n",
    "print(s1)\n",
    "print(s2)\n",
    "print()\n",
    "print(s3)"
   ]
  },
  {
   "cell_type": "markdown",
   "metadata": {},
   "source": [
    "Escape character `\\\\` (backslash) is used to interprete special characters that otherwise cannot be printed like\n",
    "the newline `\\\\n` and the tab `\\\\tab`. There are many more, but these two are most important.\n",
    "To prevent the bacslash from being interpreted as the prelude of a special character use double backslash.\n",
    "\n",
    "This is often necessary when typing or using strings that represent dirctories in Windows.\n",
    "\n",
    "For example\n",
    "C:\\\\users\\\\system\\\\python\\\\IHEcourse"
   ]
  },
  {
   "cell_type": "code",
   "execution_count": 190,
   "metadata": {
    "collapsed": false
   },
   "outputs": [
    {
     "name": "stdout",
     "output_type": "stream",
     "text": [
      "This prints with tabs \t\t and newlines\n",
      "\n",
      "\n",
      "A windows directory: C\\users\\system\\python\\IHEcourse\n"
     ]
    }
   ],
   "source": [
    "print(\"This prints with tabs \\t\\t and newlines\\n\\n\")\n",
    "print(\"A windows directory: C\\\\users\\\\system\\\\python\\\\IHEcourse\")"
   ]
  },
  {
   "cell_type": "markdown",
   "metadata": {},
   "source": [
    "If you don't want the `\\\\` to be intepreted by python you should use \"raw\" strings, which you get by putting the lower case letter `r` in front if the string."
   ]
  },
  {
   "cell_type": "code",
   "execution_count": 191,
   "metadata": {
    "collapsed": false
   },
   "outputs": [
    {
     "name": "stdout",
     "output_type": "stream",
     "text": [
      "This prints with tabs \\t\\t and newlines\\n\\n\n",
      "A windows directory: C\\\\users\\\\system\\\\python\\\\IHEcourse\n"
     ]
    }
   ],
   "source": [
    "print(r\"This prints with tabs \\t\\t and newlines\\n\\n\")\n",
    "print(r\"A windows directory: C\\\\users\\\\system\\\\python\\\\IHEcourse\")"
   ]
  },
  {
   "cell_type": "markdown",
   "metadata": {},
   "source": [
    "String addition with `+` is concatenation and multiplication with `*` means multiple concatenation:"
   ]
  },
  {
   "cell_type": "code",
   "execution_count": 19,
   "metadata": {
    "collapsed": false
   },
   "outputs": [
    {
     "data": {
      "text/plain": [
       "'This is a `so-called` concatenated string, ha, ha, ha!'"
      ]
     },
     "execution_count": 19,
     "metadata": {},
     "output_type": "execute_result"
    }
   ],
   "source": [
    "\"This is \" + 'a `so-called` concatenated' + ' ' +  \"string\" + (', ha') *3 + '!'"
   ]
  },
  {
   "cell_type": "markdown",
   "metadata": {},
   "source": [
    "Or bind the string with a variable, like `a` and print it:"
   ]
  },
  {
   "cell_type": "code",
   "execution_count": 20,
   "metadata": {
    "collapsed": false
   },
   "outputs": [
    {
     "name": "stdout",
     "output_type": "stream",
     "text": [
      "This is a `so-called` concatenated string, ha, ha, ha!\n"
     ]
    }
   ],
   "source": [
    "s = \"This is \" + 'a `so-called` concatenated' + ' ' +  \"string\" + (', ha') *3 + '!'\n",
    "print(s)"
   ]
  },
  {
   "cell_type": "markdown",
   "metadata": {},
   "source": [
    "Stings can contain replacement fields { } and then be formatted with the method format(...).\n",
    "\n",
    "The the values in myList are placed in the replacement field { }. But before doing this, a string is built like so\n",
    "\n",
    "`\" {}\" * len(myList)`\n",
    "\n",
    "to get the string with the required number of such fields."
   ]
  },
  {
   "cell_type": "code",
   "execution_count": 13,
   "metadata": {
    "collapsed": false
   },
   "outputs": [
    {
     "data": {
      "text/plain": [
       "' 3.0, 2.279345, 1.9823, -3.4, 1000.0,'"
      ]
     },
     "execution_count": 13,
     "metadata": {},
     "output_type": "execute_result"
    }
   ],
   "source": [
    "myList = [3.0, 2.279345, 1.9823, -3.4, 1e3]\n",
    "\n",
    "(\" {},\" * len(myList)).format(*myList)"
   ]
  },
  {
   "cell_type": "markdown",
   "metadata": {},
   "source": [
    "Notice that format() is a method of the string class. It's intensively used in print statements for put values in the strings to be printed. There are many many options to manage the way values are shown after they have been placed in these fields. It's said that format() has a `mini-language`. You'll get aquited with it, but it is very usefull to read the documentation, or to be at least of aware of it.\n",
    "\n",
    "Some examples for using the replacement fields:"
   ]
  },
  {
   "cell_type": "code",
   "execution_count": 72,
   "metadata": {
    "collapsed": false
   },
   "outputs": [
    {
     "name": "stdout",
     "output_type": "stream",
     "text": [
      "Just using the replacement fields:\n",
      "2, 3.141592653589793, 3.141592653589793, 3.141592653589793, 2.718281828459045, 2.718281828459045, 2.718281828459045\n",
      "\n",
      "The number in them indixes the number of the parameters in the format list.\n",
      "\n",
      "Just using the replacement fields, with a different order of the printed variables:\n",
      "            2.718281828459045, 2, 2.718281828459045, 3.141592653589793, 2, 2.718281828459045, 3.141592653589793\n",
      "\n",
      "You don't need the variable number specifier if you use the order of the variables in the format\n",
      "3.141592653589793, 2.718281828459045, 314, 1.1557273497909217\n",
      "\n",
      "Using d, f, e, and g format specifiers:\n",
      "2, 3.14, 3.1416, 3.14e+00, 2.71828e+00, 2.72, 2.7183\n",
      "\n",
      "Using d, f, e, and g format specifiers with field width:\n",
      "        2,     3.14,   3.1416,   3.14e+00, 2.71828e+00,       2.72,     2.7183\n",
      "\n",
      "d format is integer (whole number), with field width specified\n",
      "            314,  314,        314\n",
      "\n",
      "f format is floating point with field width and decimals specified\n",
      "                     3,       3.14,   3.141593\n",
      "\n",
      "e format is floating scientific form with field width and decimals specified\n",
      "                 3e+00,   3.14e+00, 3.141593e+00\n",
      "\n",
      "g format is floating general form with field width and significant digits specified\n",
      "                     3,        3.1,    3.14159\n",
      "\n",
      "You can combine alingment within the specified field width\n",
      "                     3, 3.1       , 3.14159   \n",
      "\n",
      "Pad integers with leading zeros:\n",
      "             314, 0314,        314, 0000000314\n",
      "\n",
      "You don't even need the `d` when printing integers:\n",
      "             314, 0314,        314, 0000000314\n",
      "\n",
      "The most general replacement is with strings, using s-format:\n",
      "   Hello!, Hello!    , Hello!    ,     Hello!\n",
      "   you may also here drop the letter s of the format:\n",
      "   Hello!, Hello!    , Hello!    ,     Hello!\n"
     ]
    }
   ],
   "source": [
    "from math import pi, e\n",
    "\n",
    "\n",
    "print(\"Just using the replacement fields:\\n{0}, {1}, {1}, {1}, {2}, {2}, {2}\\n\".format(2, pi, e))\n",
    "print(\"The number in them indixes the number of the parameters in the format list.\\n\")\n",
    "print(\"Just using the replacement fields, with a different order of the printed variables:\\n\\\n",
    "            {2}, {0}, {2}, {1}, {0}, {2}, {1}\\n\".format(2, pi, e))\n",
    "print(\"You don't need the variable number specifier if you use the order of the variables in the format\")\n",
    "print(\"{}, {}, {}, {}\\n\".format(pi, e, 314, pi/e))\n",
    "\n",
    "\n",
    "print(\"Using d, f, e, and g format specifiers:\\n{0:d}, {1:.2f}, {1:.4f}, {1:.2e}, {2:.5e}, {2:.3g}, {2:.5g}\\n\".format(2, pi, e))\n",
    "print(\"Using d, f, e, and g format specifiers with field width:\\n\\\n",
    "    {0:5d}, {1:8.2f}, {1:8.4f}, {1:10.2e}, {2:10.5e}, {2:10.3g}, {2:10.5g}\\n\".format(2, pi, e))\n",
    "\n",
    "print('d format is integer (whole number), with field width specified\\n\\\n",
    "            {0:d}, {0:4d}, {0:10d}\\n'.format(314))\n",
    "print('f format is floating point with field width and decimals specified\\n\\\n",
    "            {0:10.0f}, {0:10.2f}, {0:10.6f}\\n'.format(pi))\n",
    "print('e format is floating scientific form with field width and decimals specified\\n\\\n",
    "            {0:10.0e}, {0:10.2e}, {0:10.6e}\\n'.format(pi))\n",
    "print('g format is floating general form with field width and significant digits specified\\n\\\n",
    "            {0:10.0g}, {0:10.2g}, {0:10.6g}\\n'.format(pi))\n",
    "\n",
    "print('You can combine alingment within the specified field width\\n\\\n",
    "            {0:>10.0g}, {0:<10.2g}, {0:<10.6g}\\n'.format(pi))\n",
    "\n",
    "print('Pad integers with leading zeros:\\n\\\n",
    "            {0:4d}, {0:04d}, {0:10d}, {0:010d}\\n'.format(314))\n",
    "\n",
    "print('You don\\'t even need the `d` when printing integers:\\n\\\n",
    "            {0:4}, {0:04}, {0:10}, {0:010}\\n'.format(314))\n",
    "\n",
    "print('The most general replacement is with strings, using s-format:\\n\\\n",
    "   {0:s}, {0:10s}, {0:<10s}, {0:>10s}\\n\\\n",
    "   you may also here drop the letter s of the format:\\n\\\n",
    "   {0}, {0:10}, {0:<10}, {0:>10}'.format('Hello!'))"
   ]
  },
  {
   "cell_type": "markdown",
   "metadata": {},
   "source": [
    "Just one more compound example of usign `+`,  `*` and replacement.\n",
    "\n",
    "First construct the string:"
   ]
  },
  {
   "cell_type": "markdown",
   "metadata": {},
   "source": [
    "### String indexing and slicing\n",
    "We can index and slice strings to get parts of it:"
   ]
  },
  {
   "cell_type": "code",
   "execution_count": 34,
   "metadata": {
    "collapsed": false
   },
   "outputs": [
    {
     "name": "stdout",
     "output_type": "stream",
     "text": [
      "ok, according to you, this is 'a `so-called string'?\n"
     ]
    }
   ],
   "source": [
    "s1 = \"ok, according to {}, this is '\" + s[8:20] + s[34:41] + \"'?\"\n",
    "print(s1.format('you'))"
   ]
  },
  {
   "cell_type": "markdown",
   "metadata": {},
   "source": [
    "Use th slicing with a negative step size get a reversed copy of the sting"
   ]
  },
  {
   "cell_type": "code",
   "execution_count": 75,
   "metadata": {
    "collapsed": false
   },
   "outputs": [
    {
     "name": "stdout",
     "output_type": "stream",
     "text": [
      "!ah ,ah ,ah ,gnirts detanetacnoc `dellac-os` a si sihT\n"
     ]
    }
   ],
   "source": [
    "print(s[::-1])"
   ]
  },
  {
   "cell_type": "markdown",
   "metadata": {},
   "source": [
    "### String methods\n",
    "\n",
    "the string class has a number of useful and importand methods associated with it, which can be inspected in the notebook by typing a dot immediately after the string and pressing the <tab> key. You can then scroll up and down throug the list of available attributes and press return to accept one or a question mark to see it's doc string."
   ]
  },
  {
   "cell_type": "code",
   "execution_count": 84,
   "metadata": {
    "collapsed": false
   },
   "outputs": [],
   "source": [
    "s1.upper?"
   ]
  },
  {
   "cell_type": "code",
   "execution_count": 86,
   "metadata": {
    "collapsed": false
   },
   "outputs": [
    {
     "data": {
      "text/plain": [
       "['capitalize',\n",
       " 'casefold',\n",
       " 'center',\n",
       " 'count',\n",
       " 'encode',\n",
       " 'endswith',\n",
       " 'expandtabs',\n",
       " 'find',\n",
       " 'format',\n",
       " 'format_map',\n",
       " 'index',\n",
       " 'isalnum',\n",
       " 'isalpha',\n",
       " 'isdecimal',\n",
       " 'isdigit',\n",
       " 'isidentifier',\n",
       " 'islower',\n",
       " 'isnumeric',\n",
       " 'isprintable',\n",
       " 'isspace',\n",
       " 'istitle',\n",
       " 'isupper',\n",
       " 'join',\n",
       " 'ljust',\n",
       " 'lower',\n",
       " 'lstrip',\n",
       " 'maketrans',\n",
       " 'partition',\n",
       " 'replace',\n",
       " 'rfind',\n",
       " 'rindex',\n",
       " 'rjust',\n",
       " 'rpartition',\n",
       " 'rsplit',\n",
       " 'rstrip',\n",
       " 'split',\n",
       " 'splitlines',\n",
       " 'startswith',\n",
       " 'strip',\n",
       " 'swapcase',\n",
       " 'title',\n",
       " 'translate',\n",
       " 'upper',\n",
       " 'zfill']"
      ]
     },
     "execution_count": 86,
     "metadata": {},
     "output_type": "execute_result"
    }
   ],
   "source": [
    "# dir(s1) to see all the attributes of the s1 (in fact of the class str)\n",
    "[k for k in dir(s1) if not k.startswith('_')] # use this comprehension to see only the public ones"
   ]
  },
  {
   "cell_type": "markdown",
   "metadata": {},
   "source": [
    "Some examples:"
   ]
  },
  {
   "cell_type": "code",
   "execution_count": 188,
   "metadata": {
    "collapsed": false
   },
   "outputs": [
    {
     "name": "stdout",
     "output_type": "stream",
     "text": [
      "================================================================================\n",
      "Below the results of applying about all methods of str:\n",
      "\n",
      "This is a string with upper and lower case characters\n",
      "this is a string with upper and lower case characters\n",
      "########This is a string with Upper and lower case characters#########\n",
      "How ofthen does the letter `a` occur in s?  5\n",
      "Does s end with `ters` ?        True\n",
      "Does s start with 'This is a` ? True\n",
      "\tThis\tis\ta\tstring\twith\ttabs\tinstead\tof\ta\tspace.\t\t\n",
      "The word `Upper` is found at position 22\n",
      "The word `Upper` is found at position 22\n",
      "['This', 'is', 'a', 'string', 'with', 'Upper', 'and', 'lower', 'case', 'characters']\n",
      "This^is^a^string^with^Upper^and^lower^case^characters\n",
      "this is a string with upper and lower case characters\n",
      "THIS IS A STRING WITH UPPER AND LOWER CASE CHARACTERS\n",
      "This is a string with Upper and lower case alphanumeric symbols\n",
      "This Is A String With Upper And Lower Case Characters   (All words now capitalized)\n",
      "tHIS iS a sTRING wITH uPPER aND lOWER cASE cHARACTERS   (Case firt titled and then swapped)\n",
      "' \t  string with\twhitespace\t ' (String with whitespace, (with tabs and spaces))\n",
      "'string with\twhitespace' (Left and right whitespace removed)\n",
      "'string with\twhitespace\t ' (Left whitespace removed)\n",
      "' \t  string with\twhitespace' (Right whitespace removed)\n",
      "' \t  string with\twhitespace\t ============' (str is left justified and padded with '=')\n",
      "'++++++++++++ \t  string with\twhitespace\t ' (str is right justified and padded with '+')\n",
      "First index of `a` in ` 'a a a a a` is 2\n",
      "Last  index of `a` in ` 'a a a a a` is 10\n",
      "('This', '/', 'is/the/day and That\\\\was\\\\yesterday')\n",
      "First part is `This`, separator is `/` and last part is `is/the/day and That\\was\\yesterday`\n",
      "('This/is/the/day and That\\\\was', '\\\\', 'yesterday')\n",
      "First part is `This/is/the/day and That\\was`, separator is `\\` and last part is `yesterday`\n",
      "\n",
      "'Using format_map, replace keys in {} by values from dict:\\n'\n",
      "\n",
      "{'age': 2,\n",
      " 'color': 'brown',\n",
      " 'likes': 'hay',\n",
      " 'name': 'duke'}\n",
      "\n",
      "My brown horse named duke is 2 years old and especially likes hay on Sundays\n",
      "\n",
      "This is about all on the methods of str.\n",
      "================================================================================\n"
     ]
    }
   ],
   "source": [
    "s = \"This is a string with Upper and lower case characters\"\n",
    "print(\"=\" * 80)\n",
    "print(\"Below the results of applying about all methods of str:\\n\")\n",
    "print(s.capitalize()) # make first character uppercase and the rest lower case\n",
    "print(s.casefold()) # returns s suitable for caseless comparisons\n",
    "print(s.center(70, '#')) # Return S centered in a string of length width. Padding is\n",
    "print('How ofthen does the letter `a` occur in s? ', s.count('a')) # number of times given character is found in s\n",
    "print('Does s end with `ters` ?       ', s.endswith('ters'))\n",
    "print(\"Does s start with 'This is a` ?\", s.startswith('This is a'))\n",
    "print(\"\\tThis\\tis\\ta\\tstring\\twith\\ttabs\\tinstead\\tof\\ta\\tspace.\\t\\t\") # Return a copy of S where all tab characters are expanded using spaces\n",
    "print('The word `Upper` is found at position {}'.format(s.find('Upper'))) # Return the lowest index in S where substring sub is found\n",
    "print('The word `Upper` is found at position {}'.format(s.index('Upper', 10, -1))) # Like S.find() but raise ValueError when the substring is not found\n",
    "print(s.split(' '))  # splits a at specified character, space in this case. Yield list of string.\n",
    "print('^'.join(s.split(' '))) # joins list of string putting the specifed character between the words.\n",
    "print(s.lower()) # lower case copy of s\n",
    "print(s.upper()) # upper ase copy of s\n",
    "print(s.replace('characters', 'alphanumeric symbols'))\n",
    "print(s.title(), '  (All words now capitalized)') # returns string with all words capitalized\n",
    "print(s.title().swapcase(), '  (Case firt titled and then swapped)') # returns string with all words capitalized\n",
    "s2 = \" \\t  string with\\twhitespace\\t \"\n",
    "print(\"'\" + s2 + \"'\", \"(String with whitespace, (with tabs and spaces))\")\n",
    "print(\"'\" + s2.strip() + \"'\", \"(Left and right whitespace removed)\")  # whitespace removed\n",
    "print(\"'\" + s2.lstrip() + \"'\", '(Left whitespace removed)') # left whitespace removed\n",
    "print(\"'\" + s2.rstrip() + \"'\", \"(Right whitespace removed)\") # right withspace removed\n",
    "print(\"'\" + s2.ljust(40, '=') + \"'\", \"(str is left justified and padded with '=')\")\n",
    "print(\"'\" + s2.rjust(40, '+') + \"'\", \"(str is right justified and padded with '+')\")\n",
    "s2 = \" 'a a a a a\"\n",
    "print('First index of `{}` in `{}` is {}'.format('a', s2, s2.find('a')))\n",
    "print('Last  index of `{}` in `{}` is {}'.format('a', s2, s2.rfind('a')))\n",
    "s3 = 'This/is/the/day and That\\\\was\\\\yesterday'\n",
    "print(s3.partition('/'))  # Search for the separator sep in S, and return the part before it,\n",
    "print('First part is `{}`, separator is `{}` and last part is `{}`'.format(*s3.partition('/')))\n",
    "\n",
    "print(s3.rpartition('\\\\'))  # Search for the separator sep in S, and return the part before it,\n",
    "print('First part is `{}`, separator is `{}` and last part is `{}`'.format(*s3.rpartition('\\\\')))\n",
    "\n",
    "# Format_map is like format but can use values from a dict if the keys are used in the replacement fields\n",
    "print()\n",
    "pprint(\"Using format_map, replace keys in {} by values from dict:\\n\")\n",
    "horse={'name' : 'duke',\n",
    "       'age' : 2,\n",
    "       'color': 'brown',\n",
    "       'likes' : 'hay'}\n",
    "print()\n",
    "pprint(horse, width=40)\n",
    "print()\n",
    "print('My {color} horse named {name} is {age} years old and especially likes {likes} on Sundays'.format_map(horse))\n",
    "print()\n",
    "print(\"This is about all on the methods of str.\")\n",
    "print(\"=\" * 80)"
   ]
  }
 ],
 "metadata": {
  "anaconda-cloud": {},
  "kernelspec": {
   "display_name": "Python [default]",
   "language": "python",
   "name": "python3"
  },
  "language_info": {
   "codemirror_mode": {
    "name": "ipython",
    "version": 3
   },
   "file_extension": ".py",
   "mimetype": "text/x-python",
   "name": "python",
   "nbconvert_exporter": "python",
   "pygments_lexer": "ipython3",
   "version": "3.5.2"
  }
 },
 "nbformat": 4,
 "nbformat_minor": 1
}
